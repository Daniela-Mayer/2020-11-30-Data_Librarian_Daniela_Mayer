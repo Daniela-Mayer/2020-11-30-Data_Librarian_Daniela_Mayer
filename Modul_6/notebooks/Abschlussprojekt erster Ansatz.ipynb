{
 "cells": [
  {
   "cell_type": "markdown",
   "metadata": {},
   "source": [
    "Aufgabe: \n",
    "Die Datei \"AbschlussarbeitenReposit\" (=\"Datei1\") weist Abschlussarbeiten der HAW Hamburg nach und enthält\n",
    "Daten wie Autor*in, Titel, Abstact, Jahr, ppn, etc.). Es fehlen dort die Namen der Betreuer*innen. Diese sollen\n",
    "ergänzt werden und können der Datei \"AbschlussarbeitenCBS\" (=\"Datei2\") entnommen werden, welche z.B. Autor*in, Betreuer*innen, Titel, ppn enthält. \n",
    "Die Datensätze der beiden Dateien enthalten stimmen nur ungefähr überein, es gibt auch Datensätze die jeweils in nur einer der beiden Dateien auftauchen. D.h. ein einfaches Kopieren der Betreuer*innen-Spalte aus Datei2 und einfügen in  Datei1 ist nicht möglich.  \n",
    "Der Identifikator, anhand dessen eine eindeutige Zuordnung der Datensätze möglich ist, ist die ppn (Pica Produktionsnummer). "
   ]
  },
  {
   "cell_type": "code",
   "execution_count": 2,
   "metadata": {},
   "outputs": [],
   "source": [
    "import pandas as pd"
   ]
  },
  {
   "cell_type": "code",
   "execution_count": 14,
   "metadata": {},
   "outputs": [],
   "source": [
    "dfReposit = pd.read_excel(\"../data/AbschlussarbeitenReposit.xlsx\")\n",
    "dfCBS = pd.read_excel(\"../data/AbschlussarbeitenCBS.xlsx\")"
   ]
  },
  {
   "cell_type": "markdown",
   "metadata": {},
   "source": [
    "Die erste Datei (Abschlussarbeiten Reposit) untersuchen"
   ]
  },
  {
   "cell_type": "code",
   "execution_count": 4,
   "metadata": {},
   "outputs": [
    {
     "data": {
      "text/html": [
       "<div>\n",
       "<style scoped>\n",
       "    .dataframe tbody tr th:only-of-type {\n",
       "        vertical-align: middle;\n",
       "    }\n",
       "\n",
       "    .dataframe tbody tr th {\n",
       "        vertical-align: top;\n",
       "    }\n",
       "\n",
       "    .dataframe thead th {\n",
       "        text-align: right;\n",
       "    }\n",
       "</style>\n",
       "<table border=\"1\" class=\"dataframe\">\n",
       "  <thead>\n",
       "    <tr style=\"text-align: right;\">\n",
       "      <th></th>\n",
       "      <th>id</th>\n",
       "      <th>collection</th>\n",
       "      <th>dc.contributor.advisor</th>\n",
       "      <th>dc.contributor.author</th>\n",
       "      <th>dc.contributor.author[]</th>\n",
       "      <th>dc.contributor.other[]</th>\n",
       "      <th>dc.contributorCorporate.other[]</th>\n",
       "      <th>dc.date.created</th>\n",
       "      <th>dc.date.created[]</th>\n",
       "      <th>dc.date.issued</th>\n",
       "      <th>...</th>\n",
       "      <th>tuhh.note.intern[]</th>\n",
       "      <th>tuhh.oai.show[en_US]</th>\n",
       "      <th>tuhh.opus.id</th>\n",
       "      <th>tuhh.opus.id[]</th>\n",
       "      <th>tuhh.publication.institute</th>\n",
       "      <th>tuhh.publication.institute[]</th>\n",
       "      <th>tuhh.publication.institute[en_US]</th>\n",
       "      <th>tuhh.type.opus</th>\n",
       "      <th>tuhh.uploader.email</th>\n",
       "      <th>tuhh.uploader.email[]</th>\n",
       "    </tr>\n",
       "  </thead>\n",
       "  <tbody>\n",
       "    <tr>\n",
       "      <th>0</th>\n",
       "      <td>5132</td>\n",
       "      <td>20.500.12738/6</td>\n",
       "      <td>NaN</td>\n",
       "      <td>NaN</td>\n",
       "      <td>Discher, Annika::rp06916::600</td>\n",
       "      <td>NaN</td>\n",
       "      <td>NaN</td>\n",
       "      <td>NaN</td>\n",
       "      <td>2010.0</td>\n",
       "      <td>NaN</td>\n",
       "      <td>...</td>\n",
       "      <td>1.0</td>\n",
       "      <td>True</td>\n",
       "      <td>NaN</td>\n",
       "      <td>1025.0</td>\n",
       "      <td>NaN</td>\n",
       "      <td>Department Soziale Arbeit::ou00050::600</td>\n",
       "      <td>NaN</td>\n",
       "      <td>Bachelor Thesis</td>\n",
       "      <td>NaN</td>\n",
       "      <td>kerstin.hauschild@haw-hamburg.de</td>\n",
       "    </tr>\n",
       "    <tr>\n",
       "      <th>1</th>\n",
       "      <td>5360</td>\n",
       "      <td>20.500.12738/6</td>\n",
       "      <td>NaN</td>\n",
       "      <td>NaN</td>\n",
       "      <td>Eickhoff, Sebastian::rp07132::600</td>\n",
       "      <td>NaN</td>\n",
       "      <td>NaN</td>\n",
       "      <td>NaN</td>\n",
       "      <td>2011.0</td>\n",
       "      <td>NaN</td>\n",
       "      <td>...</td>\n",
       "      <td>1.0</td>\n",
       "      <td>True</td>\n",
       "      <td>NaN</td>\n",
       "      <td>1268.0</td>\n",
       "      <td>NaN</td>\n",
       "      <td>Department Informatik::ou00045::600</td>\n",
       "      <td>NaN</td>\n",
       "      <td>Bachelor Thesis</td>\n",
       "      <td>NaN</td>\n",
       "      <td>@</td>\n",
       "    </tr>\n",
       "    <tr>\n",
       "      <th>2</th>\n",
       "      <td>5134</td>\n",
       "      <td>20.500.12738/6</td>\n",
       "      <td>NaN</td>\n",
       "      <td>NaN</td>\n",
       "      <td>Richter, Sandra::rp06917::600</td>\n",
       "      <td>NaN</td>\n",
       "      <td>NaN</td>\n",
       "      <td>NaN</td>\n",
       "      <td>2010.0</td>\n",
       "      <td>NaN</td>\n",
       "      <td>...</td>\n",
       "      <td>1.0</td>\n",
       "      <td>True</td>\n",
       "      <td>NaN</td>\n",
       "      <td>1027.0</td>\n",
       "      <td>NaN</td>\n",
       "      <td>Department Gesundheitswissenschaften::ou00038:...</td>\n",
       "      <td>NaN</td>\n",
       "      <td>Bachelor Thesis</td>\n",
       "      <td>NaN</td>\n",
       "      <td>susanne.gassl@haw-hamburg.de</td>\n",
       "    </tr>\n",
       "    <tr>\n",
       "      <th>3</th>\n",
       "      <td>5376</td>\n",
       "      <td>20.500.12738/6</td>\n",
       "      <td>NaN</td>\n",
       "      <td>NaN</td>\n",
       "      <td>Knudsen, Martin::rp07147::600</td>\n",
       "      <td>NaN</td>\n",
       "      <td>NaN</td>\n",
       "      <td>NaN</td>\n",
       "      <td>2011.0</td>\n",
       "      <td>NaN</td>\n",
       "      <td>...</td>\n",
       "      <td>1.0</td>\n",
       "      <td>True</td>\n",
       "      <td>NaN</td>\n",
       "      <td>1284.0</td>\n",
       "      <td>NaN</td>\n",
       "      <td>Department Information::ou00034::600</td>\n",
       "      <td>NaN</td>\n",
       "      <td>Bachelor Thesis</td>\n",
       "      <td>NaN</td>\n",
       "      <td>detlev.dannenberg@haw-hamburg.de</td>\n",
       "    </tr>\n",
       "    <tr>\n",
       "      <th>4</th>\n",
       "      <td>5377</td>\n",
       "      <td>20.500.12738/6</td>\n",
       "      <td>NaN</td>\n",
       "      <td>NaN</td>\n",
       "      <td>Zakarwal, Schafiqa::rp07148::600</td>\n",
       "      <td>NaN</td>\n",
       "      <td>NaN</td>\n",
       "      <td>NaN</td>\n",
       "      <td>2011.0</td>\n",
       "      <td>NaN</td>\n",
       "      <td>...</td>\n",
       "      <td>1.0</td>\n",
       "      <td>True</td>\n",
       "      <td>NaN</td>\n",
       "      <td>1285.0</td>\n",
       "      <td>NaN</td>\n",
       "      <td>Department Information::ou00034::600</td>\n",
       "      <td>NaN</td>\n",
       "      <td>Bachelor Thesis</td>\n",
       "      <td>NaN</td>\n",
       "      <td>detlev.dannenberg@haw-hamburg.de</td>\n",
       "    </tr>\n",
       "    <tr>\n",
       "      <th>5</th>\n",
       "      <td>5136</td>\n",
       "      <td>20.500.12738/6</td>\n",
       "      <td>NaN</td>\n",
       "      <td>NaN</td>\n",
       "      <td>Sundas, Claudia::rp06919::600</td>\n",
       "      <td>NaN</td>\n",
       "      <td>NaN</td>\n",
       "      <td>NaN</td>\n",
       "      <td>2006.0</td>\n",
       "      <td>NaN</td>\n",
       "      <td>...</td>\n",
       "      <td>NaN</td>\n",
       "      <td>True</td>\n",
       "      <td>NaN</td>\n",
       "      <td>103.0</td>\n",
       "      <td>NaN</td>\n",
       "      <td>Department Soziale Arbeit::ou00050::600</td>\n",
       "      <td>NaN</td>\n",
       "      <td>Masterarbeit</td>\n",
       "      <td>NaN</td>\n",
       "      <td>kerstin.hauschild@hibs.haw-hamburg.de</td>\n",
       "    </tr>\n",
       "    <tr>\n",
       "      <th>6</th>\n",
       "      <td>5378</td>\n",
       "      <td>20.500.12738/6</td>\n",
       "      <td>NaN</td>\n",
       "      <td>NaN</td>\n",
       "      <td>Jeretzky, Nicole::rp07149::600</td>\n",
       "      <td>NaN</td>\n",
       "      <td>NaN</td>\n",
       "      <td>NaN</td>\n",
       "      <td>2011.0</td>\n",
       "      <td>NaN</td>\n",
       "      <td>...</td>\n",
       "      <td>1.0</td>\n",
       "      <td>True</td>\n",
       "      <td>NaN</td>\n",
       "      <td>1286.0</td>\n",
       "      <td>NaN</td>\n",
       "      <td>Department Information::ou00034::600</td>\n",
       "      <td>NaN</td>\n",
       "      <td>Bachelor Thesis</td>\n",
       "      <td>NaN</td>\n",
       "      <td>detlev.dannenberg@haw-hamburg.de</td>\n",
       "    </tr>\n",
       "    <tr>\n",
       "      <th>7</th>\n",
       "      <td>5379</td>\n",
       "      <td>20.500.12738/6</td>\n",
       "      <td>NaN</td>\n",
       "      <td>NaN</td>\n",
       "      <td>Tamancoldi Lechte, Yasmin N.::rp07150::600</td>\n",
       "      <td>NaN</td>\n",
       "      <td>NaN</td>\n",
       "      <td>NaN</td>\n",
       "      <td>2011.0</td>\n",
       "      <td>NaN</td>\n",
       "      <td>...</td>\n",
       "      <td>1.0</td>\n",
       "      <td>True</td>\n",
       "      <td>NaN</td>\n",
       "      <td>1287.0</td>\n",
       "      <td>NaN</td>\n",
       "      <td>Department Information::ou00034::600</td>\n",
       "      <td>NaN</td>\n",
       "      <td>Bachelor Thesis</td>\n",
       "      <td>NaN</td>\n",
       "      <td>detlev.dannenberg@haw-hamburg.de</td>\n",
       "    </tr>\n",
       "    <tr>\n",
       "      <th>8</th>\n",
       "      <td>5369</td>\n",
       "      <td>20.500.12738/6</td>\n",
       "      <td>NaN</td>\n",
       "      <td>NaN</td>\n",
       "      <td>Hilbig, Svetlana::rp07141::600</td>\n",
       "      <td>NaN</td>\n",
       "      <td>NaN</td>\n",
       "      <td>NaN</td>\n",
       "      <td>2011.0</td>\n",
       "      <td>NaN</td>\n",
       "      <td>...</td>\n",
       "      <td>1.0</td>\n",
       "      <td>True</td>\n",
       "      <td>NaN</td>\n",
       "      <td>1276.0</td>\n",
       "      <td>NaN</td>\n",
       "      <td>Department Information::ou00034::600</td>\n",
       "      <td>NaN</td>\n",
       "      <td>Bachelor Thesis</td>\n",
       "      <td>NaN</td>\n",
       "      <td>detlev.dannenberg@haw-hamburg.de</td>\n",
       "    </tr>\n",
       "    <tr>\n",
       "      <th>9</th>\n",
       "      <td>5368</td>\n",
       "      <td>20.500.12738/6</td>\n",
       "      <td>NaN</td>\n",
       "      <td>NaN</td>\n",
       "      <td>Liedtke, Andreas::rp07140::600</td>\n",
       "      <td>NaN</td>\n",
       "      <td>NaN</td>\n",
       "      <td>NaN</td>\n",
       "      <td>2011.0</td>\n",
       "      <td>NaN</td>\n",
       "      <td>...</td>\n",
       "      <td>1.0</td>\n",
       "      <td>True</td>\n",
       "      <td>NaN</td>\n",
       "      <td>1275.0</td>\n",
       "      <td>NaN</td>\n",
       "      <td>Department Informatik::ou00045::600</td>\n",
       "      <td>NaN</td>\n",
       "      <td>Bachelor Thesis</td>\n",
       "      <td>NaN</td>\n",
       "      <td>@</td>\n",
       "    </tr>\n",
       "  </tbody>\n",
       "</table>\n",
       "<p>10 rows × 77 columns</p>\n",
       "</div>"
      ],
      "text/plain": [
       "     id      collection dc.contributor.advisor dc.contributor.author  \\\n",
       "0  5132  20.500.12738/6                    NaN                   NaN   \n",
       "1  5360  20.500.12738/6                    NaN                   NaN   \n",
       "2  5134  20.500.12738/6                    NaN                   NaN   \n",
       "3  5376  20.500.12738/6                    NaN                   NaN   \n",
       "4  5377  20.500.12738/6                    NaN                   NaN   \n",
       "5  5136  20.500.12738/6                    NaN                   NaN   \n",
       "6  5378  20.500.12738/6                    NaN                   NaN   \n",
       "7  5379  20.500.12738/6                    NaN                   NaN   \n",
       "8  5369  20.500.12738/6                    NaN                   NaN   \n",
       "9  5368  20.500.12738/6                    NaN                   NaN   \n",
       "\n",
       "                      dc.contributor.author[] dc.contributor.other[]  \\\n",
       "0               Discher, Annika::rp06916::600                    NaN   \n",
       "1           Eickhoff, Sebastian::rp07132::600                    NaN   \n",
       "2               Richter, Sandra::rp06917::600                    NaN   \n",
       "3               Knudsen, Martin::rp07147::600                    NaN   \n",
       "4            Zakarwal, Schafiqa::rp07148::600                    NaN   \n",
       "5               Sundas, Claudia::rp06919::600                    NaN   \n",
       "6              Jeretzky, Nicole::rp07149::600                    NaN   \n",
       "7  Tamancoldi Lechte, Yasmin N.::rp07150::600                    NaN   \n",
       "8              Hilbig, Svetlana::rp07141::600                    NaN   \n",
       "9              Liedtke, Andreas::rp07140::600                    NaN   \n",
       "\n",
       "  dc.contributorCorporate.other[] dc.date.created  dc.date.created[]  \\\n",
       "0                             NaN             NaN             2010.0   \n",
       "1                             NaN             NaN             2011.0   \n",
       "2                             NaN             NaN             2010.0   \n",
       "3                             NaN             NaN             2011.0   \n",
       "4                             NaN             NaN             2011.0   \n",
       "5                             NaN             NaN             2006.0   \n",
       "6                             NaN             NaN             2011.0   \n",
       "7                             NaN             NaN             2011.0   \n",
       "8                             NaN             NaN             2011.0   \n",
       "9                             NaN             NaN             2011.0   \n",
       "\n",
       "  dc.date.issued  ... tuhh.note.intern[] tuhh.oai.show[en_US] tuhh.opus.id  \\\n",
       "0            NaN  ...                1.0                 True          NaN   \n",
       "1            NaN  ...                1.0                 True          NaN   \n",
       "2            NaN  ...                1.0                 True          NaN   \n",
       "3            NaN  ...                1.0                 True          NaN   \n",
       "4            NaN  ...                1.0                 True          NaN   \n",
       "5            NaN  ...                NaN                 True          NaN   \n",
       "6            NaN  ...                1.0                 True          NaN   \n",
       "7            NaN  ...                1.0                 True          NaN   \n",
       "8            NaN  ...                1.0                 True          NaN   \n",
       "9            NaN  ...                1.0                 True          NaN   \n",
       "\n",
       "  tuhh.opus.id[] tuhh.publication.institute  \\\n",
       "0         1025.0                        NaN   \n",
       "1         1268.0                        NaN   \n",
       "2         1027.0                        NaN   \n",
       "3         1284.0                        NaN   \n",
       "4         1285.0                        NaN   \n",
       "5          103.0                        NaN   \n",
       "6         1286.0                        NaN   \n",
       "7         1287.0                        NaN   \n",
       "8         1276.0                        NaN   \n",
       "9         1275.0                        NaN   \n",
       "\n",
       "                        tuhh.publication.institute[]  \\\n",
       "0            Department Soziale Arbeit::ou00050::600   \n",
       "1                Department Informatik::ou00045::600   \n",
       "2  Department Gesundheitswissenschaften::ou00038:...   \n",
       "3               Department Information::ou00034::600   \n",
       "4               Department Information::ou00034::600   \n",
       "5            Department Soziale Arbeit::ou00050::600   \n",
       "6               Department Information::ou00034::600   \n",
       "7               Department Information::ou00034::600   \n",
       "8               Department Information::ou00034::600   \n",
       "9                Department Informatik::ou00045::600   \n",
       "\n",
       "  tuhh.publication.institute[en_US]   tuhh.type.opus tuhh.uploader.email  \\\n",
       "0                               NaN  Bachelor Thesis                 NaN   \n",
       "1                               NaN  Bachelor Thesis                 NaN   \n",
       "2                               NaN  Bachelor Thesis                 NaN   \n",
       "3                               NaN  Bachelor Thesis                 NaN   \n",
       "4                               NaN  Bachelor Thesis                 NaN   \n",
       "5                               NaN     Masterarbeit                 NaN   \n",
       "6                               NaN  Bachelor Thesis                 NaN   \n",
       "7                               NaN  Bachelor Thesis                 NaN   \n",
       "8                               NaN  Bachelor Thesis                 NaN   \n",
       "9                               NaN  Bachelor Thesis                 NaN   \n",
       "\n",
       "                   tuhh.uploader.email[]  \n",
       "0       kerstin.hauschild@haw-hamburg.de  \n",
       "1                                      @  \n",
       "2           susanne.gassl@haw-hamburg.de  \n",
       "3       detlev.dannenberg@haw-hamburg.de  \n",
       "4       detlev.dannenberg@haw-hamburg.de  \n",
       "5  kerstin.hauschild@hibs.haw-hamburg.de  \n",
       "6       detlev.dannenberg@haw-hamburg.de  \n",
       "7       detlev.dannenberg@haw-hamburg.de  \n",
       "8       detlev.dannenberg@haw-hamburg.de  \n",
       "9                                      @  \n",
       "\n",
       "[10 rows x 77 columns]"
      ]
     },
     "execution_count": 4,
     "metadata": {},
     "output_type": "execute_result"
    }
   ],
   "source": [
    "#Spaltenbezeichnungen der Reposit-Datei anzeigen lassen\n",
    "#FRAGE: Wie kann ich die nicht angzeigten Spalten sehen??\n",
    "dfReposit.head(10)"
   ]
  },
  {
   "cell_type": "code",
   "execution_count": 5,
   "metadata": {},
   "outputs": [
    {
     "data": {
      "text/plain": [
       "Index(['id', 'collection', 'dc.contributor.advisor', 'dc.contributor.author',\n",
       "       'dc.contributor.author[]', 'dc.contributor.other[]',\n",
       "       'dc.contributorCorporate.other[]', 'dc.date.created',\n",
       "       'dc.date.created[]', 'dc.date.issued', 'dc.date.issued[]',\n",
       "       'dc.description.abstract[]', 'dc.description.abstract[de]',\n",
       "       'dc.description.abstract[en]', 'dc.description.abstract[en_US]',\n",
       "       'dc.description.abstract[mis]', 'dc.identifier.uri',\n",
       "       'dc.identifier.urn[]', 'dc.language.iso[de]', 'dc.language.iso[en]',\n",
       "       'dc.language.iso[en_US]', 'dc.relation.isreplacedby', 'dc.rights.cc[]',\n",
       "       'dc.rights.cc[en_US]', 'dc.subject.ddc', 'dc.subject.ddc[]',\n",
       "       'dc.subject.ddc[en_US]', 'dc.subject.gnd', 'dc.subject.gnd[]',\n",
       "       'dc.subject[de]', 'dc.subject[en]', 'dc.subject[en_US]',\n",
       "       'dc.title.alternative[en]', 'dc.title[de]', 'dc.title[en]',\n",
       "       'dc.title[en_US]', 'dc.type', 'dc.type.casrai', 'dc.type.dini',\n",
       "       'dc.type.driver', 'dc.type.status', 'dc.type.status[]',\n",
       "       'dc.type.status[en_US]', 'dc.type.thesis', 'dc.type.thesis[]',\n",
       "       'dc.type.thesis[en_US]', 'dc.type[]', 'dc.type[en_US]',\n",
       "       'dcterms.DCMIType', 'local.comment', 'openaire.rights',\n",
       "       'openaire.rights[]', 'openaire.rights[en_US]',\n",
       "       'thesis.grantor.department', 'thesis.grantor.department[]',\n",
       "       'thesis.grantor.department[en_US]', 'thesis.grantor.place',\n",
       "       'thesis.grantor.place[]', 'thesis.grantor.universityOrInstitution',\n",
       "       'thesis.grantor.universityOrInstitution[]',\n",
       "       'thesis.grantor.universityOrInstitution[en_US]',\n",
       "       'tuhh.contributor.referee', 'tuhh.gvk.ppn', 'tuhh.gvk.ppn[]',\n",
       "       'tuhh.note.extern', 'tuhh.note.extern[]', 'tuhh.note.intern',\n",
       "       'tuhh.note.intern[]', 'tuhh.oai.show[en_US]', 'tuhh.opus.id',\n",
       "       'tuhh.opus.id[]', 'tuhh.publication.institute',\n",
       "       'tuhh.publication.institute[]', 'tuhh.publication.institute[en_US]',\n",
       "       'tuhh.type.opus', 'tuhh.uploader.email', 'tuhh.uploader.email[]'],\n",
       "      dtype='object')"
      ]
     },
     "execution_count": 5,
     "metadata": {},
     "output_type": "execute_result"
    }
   ],
   "source": [
    "#Wie viele bzw. welche Merkmale/Spalten sind in der Reposit-Datei vorhanden?\n",
    "dfReposit.columns"
   ]
  },
  {
   "cell_type": "code",
   "execution_count": 6,
   "metadata": {},
   "outputs": [],
   "source": [
    "#Spaltennamen kommen teilw. doppelt vor, die mit \"[]\" am Ende des Namens können language-Attribute enthalten. \n",
    "#Die ppn befindet sich in der Spalte \"tuhh.gvk.ppn[]\" und ist der eindeutige Identifikator. Zudem sind sowieso\n",
    "#alle Datensätze ohne ppn obsolet. \n",
    "#Die Namen der Betreuer aus der anderen Tabelle sollen später in die zurzeit leeren Spalten \n",
    "#\"dc.contributor.advisor\" (Erstbetreuer) bzw. \"tuhh.contributor.referee\" (Zweitbetreuer)"
   ]
  },
  {
   "cell_type": "code",
   "execution_count": 7,
   "metadata": {},
   "outputs": [
    {
     "ename": "SyntaxError",
     "evalue": "invalid syntax (<ipython-input-7-8d2de2dc1bce>, line 2)",
     "output_type": "error",
     "traceback": [
      "\u001b[0;36m  File \u001b[0;32m\"<ipython-input-7-8d2de2dc1bce>\"\u001b[0;36m, line \u001b[0;32m2\u001b[0m\n\u001b[0;31m    dfReposit.tuhh.gvk.ppn[]\u001b[0m\n\u001b[0m                           ^\u001b[0m\n\u001b[0;31mSyntaxError\u001b[0m\u001b[0;31m:\u001b[0m invalid syntax\n"
     ]
    }
   ],
   "source": [
    "#Inhalt der Spalte \"tuhh.gvk.ppn[]\" anzeigen lassen. FRAGE: Wie geht das in diesem Fall mit den .. und [] ??\n",
    "dfReposit.tuhh.gvk.ppn[]"
   ]
  },
  {
   "cell_type": "code",
   "execution_count": null,
   "metadata": {},
   "outputs": [],
   "source": [
    "#Einzelne Spalte (ist das schon eine Series??) extrahieren mit df[<name>], damit ich erkennen kann, ob in \n",
    "#dieser Spalte wirklich ppns enthalten sind. Antwort: ja - aber in manchen Zeilen steht nichts (NaN) - oder\n",
    "#evtl. auch etwas ganz anderes? \n",
    "#FRAGE: Wie kann ich hier mehr als 10 Zeilen angezeigt bekommen um zu prüfen, was dort ggfs. steht? \n",
    "df['tuhh.gvk.ppn[]']"
   ]
  },
  {
   "cell_type": "code",
   "execution_count": 20,
   "metadata": {},
   "outputs": [
    {
     "data": {
      "text/plain": [
       "4882"
      ]
     },
     "execution_count": 20,
     "metadata": {},
     "output_type": "execute_result"
    }
   ],
   "source": [
    "#Wie viele Datensätze/Zeilen enthält die Datei?\n",
    "len(dfReposit)"
   ]
  },
  {
   "cell_type": "code",
   "execution_count": 8,
   "metadata": {},
   "outputs": [
    {
     "data": {
      "text/plain": [
       "id                                    int64\n",
       "collection                           object\n",
       "dc.contributor.advisor               object\n",
       "dc.contributor.author                object\n",
       "dc.contributor.author[]              object\n",
       "                                      ...  \n",
       "tuhh.publication.institute[]         object\n",
       "tuhh.publication.institute[en_US]    object\n",
       "tuhh.type.opus                       object\n",
       "tuhh.uploader.email                  object\n",
       "tuhh.uploader.email[]                object\n",
       "Length: 77, dtype: object"
      ]
     },
     "execution_count": 8,
     "metadata": {},
     "output_type": "execute_result"
    }
   ],
   "source": [
    "dfReposit.dtypes"
   ]
  },
  {
   "cell_type": "code",
   "execution_count": 10,
   "metadata": {},
   "outputs": [
    {
     "data": {
      "text/plain": [
       "(4882, 77)"
      ]
     },
     "execution_count": 10,
     "metadata": {},
     "output_type": "execute_result"
    }
   ],
   "source": [
    "dfReposit.shape"
   ]
  },
  {
   "cell_type": "code",
   "execution_count": null,
   "metadata": {},
   "outputs": [],
   "source": [
    "#Nächster SChritt: Alle Zeilen löschen, die keine ppn enthalten (d.h. wo in der entspr. Spalte nichts oder \n",
    "#etwas anderes steht. "
   ]
  },
  {
   "cell_type": "markdown",
   "metadata": {},
   "source": [
    "Die zweite Datei (Abschlussarbeiten CBS) untersuchen"
   ]
  },
  {
   "cell_type": "code",
   "execution_count": 15,
   "metadata": {},
   "outputs": [
    {
     "data": {
      "text/plain": [
       "Index(['PPN', 'EPN', 'Jahr', 'ISBN', 'ISSN', 'ISMN', 'ZDBID', 'DOI', 'URN',\n",
       "       'URL', 'Verfasser', 'weitereVerf.', 'sonstPers', 'Körperschaft3100',\n",
       "       'Körperschaft3110', 'Titel', 'Titel+Zusatz', 'TitelOhneArtikel',\n",
       "       'GesamttitelMBW', 'Ausgabe', 'Ort', 'Verlag', 'Ort+Verlag', 'Umfang',\n",
       "       'Illustrationen', 'Schriftenreihe', 'DDC', 'DNBSachgruppe', 'DNBDDC',\n",
       "       'Basisklassifikation', 'LokaleNotation', 'LokalesSchlagwort',\n",
       "       'Standort', 'Signatur', 'Ausleihcode', 'Standort+Signatur+AUI',\n",
       "       'Zugangsnr', 'Verbuchungsnr', 'ExKommentar4801', 'ExKommentar4802',\n",
       "       'Bestandsangaben7120', 'Bestandsangaben7121', 'LokaleURL',\n",
       "       'Notation6700', 'Schlagwort6800', 'Abrufzeichen8600'],\n",
       "      dtype='object')"
      ]
     },
     "execution_count": 15,
     "metadata": {},
     "output_type": "execute_result"
    }
   ],
   "source": [
    "#Wie viele bzw. welche Merkmale/Spalten sind in der Reposit-Datei vorhanden?\n",
    "dfCBS.columns"
   ]
  },
  {
   "cell_type": "code",
   "execution_count": 21,
   "metadata": {},
   "outputs": [
    {
     "data": {
      "text/plain": [
       "(4844, 46)"
      ]
     },
     "execution_count": 21,
     "metadata": {},
     "output_type": "execute_result"
    }
   ],
   "source": [
    "#Wie viele Datensätze/Zeilen und wie viele Spalten enthält die Datei?\n",
    "dfCBS.shape"
   ]
  },
  {
   "cell_type": "code",
   "execution_count": 16,
   "metadata": {},
   "outputs": [],
   "source": [
    "#Die ppn befindet sich in der ersten Spalte (\"PPN\") und ist der eindeutige Identifikator. \n",
    "#Die Namen der Betreuer befinden sich in der Spalte \"sonstPers\"\n",
    "#Da nur die PPN und die Namen der Betreuer relevant sind, können alle anderen Spalten im Prinzip gelöscht \n",
    "#werden. Der Verfasser-Name sollte zur späteren Überprüfung ebenfalls bleiben. "
   ]
  },
  {
   "cell_type": "code",
   "execution_count": 19,
   "metadata": {},
   "outputs": [
    {
     "data": {
      "text/plain": [
       "0       Dreier-Wolfgramm, Adina [AkademischeR Betreuer...\n",
       "1       Richter, Miriam Tariba ; ID: gnd/135747341; He...\n",
       "2       Stratmeyer, Peter *1955-* ; ID: gnd/123647495;...\n",
       "3       Dreier-Wolfgramm, Adina [AkademischeR Betreuer...\n",
       "4       Witt, Gesine [AkademischeR BetreuerIn]; Kröger...\n",
       "                              ...                        \n",
       "4839     Weidner, Jens [Ref.]; Dargel, Wolfram [Ko.-Ref.]\n",
       "4840        Weber, Petra [Ref.]; Busch, Susanne [Ko-Ref.]\n",
       "4841    Schürgers, Georg [Ref.]; Zeichner, Dirk [Ko-Ref.]\n",
       "4842      Eppel, Heidi [Ref.]; Strehmel, Petra [Ko.-Ref.]\n",
       "4843                                                  NaN\n",
       "Name: sonstPers, Length: 4844, dtype: object"
      ]
     },
     "execution_count": 19,
     "metadata": {},
     "output_type": "execute_result"
    }
   ],
   "source": [
    "#Inhalt der Spalte \"sonstPers\" anzeigen lassen.\n",
    "#FRAGE: Wie kann ich hier mehr als 10 Datensätze anzeigen lassen und vor allem den vollst. Inhalt?\n",
    "dfCBS.sonstPers"
   ]
  },
  {
   "cell_type": "code",
   "execution_count": 22,
   "metadata": {},
   "outputs": [],
   "source": [
    "#Die beiden Betreuer befinden sich zusammen in einer Spalte\n",
    "#Teilweise ist das Feld leer - dies könnten gelöschte bzw. zurückgezogene Abschlussarbeiten sein.\n",
    "#Datensätze ohne Inhalt im Feld \"sonstPers\" könnten gelöscht werden"
   ]
  },
  {
   "cell_type": "code",
   "execution_count": null,
   "metadata": {},
   "outputs": [],
   "source": []
  }
 ],
 "metadata": {
  "kernelspec": {
   "display_name": "Python 3",
   "language": "python",
   "name": "python3"
  },
  "language_info": {
   "codemirror_mode": {
    "name": "ipython",
    "version": 3
   },
   "file_extension": ".py",
   "mimetype": "text/x-python",
   "name": "python",
   "nbconvert_exporter": "python",
   "pygments_lexer": "ipython3",
   "version": "3.8.5"
  }
 },
 "nbformat": 4,
 "nbformat_minor": 4
}
