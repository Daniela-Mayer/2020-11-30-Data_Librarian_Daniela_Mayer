{
 "cells": [
  {
   "cell_type": "markdown",
   "metadata": {},
   "source": [
    "#Aufgabe: Die Excel-Datei \"AbschlussarbeitenReposit\" weist Abschlussarbeiten der HAW Hamburg nach und ist \n",
    "ein Datenabzug aus dem Repositorium. Enthalten sind u.a. Autor:in, Titel, Jahr, ppn, etc.). Es fehlen die Namen der Referent:innen, diese sollen ergänzt werden.\n",
    "Dazu muss in der Katalogdatenbank PICA eine Datenabfrage der Abschlussarbeiten incl. Referent:innen gemacht werden, dies ist die Exceltabelle \"CBS_Export_3010_3050\". \n",
    "Die Datensätze der beiden Dateien stimmen nur ungefähr überein, es gibt auch Datensätze die jeweils in nur einer der beiden Dateien auftauchen. Der Identifikator, anhand dessen eine eindeutige Zuordnung der Datensätze erfolgt, ist die PPN (Pica Produktionsnummer)."
   ]
  },
  {
   "cell_type": "markdown",
   "metadata": {},
   "source": [
    "Die CBS-Datei enthält alle Namen der Betreuer*innen, aber in zwei versch. Spalten (sonstPers und sonstPers2). Diese zwei Spalten sollen zunächst zusammengeführt werden. "
   ]
  },
  {
   "cell_type": "code",
   "execution_count": 1,
   "metadata": {},
   "outputs": [],
   "source": [
    "import pandas as pd"
   ]
  },
  {
   "cell_type": "markdown",
   "metadata": {},
   "source": [
    "# 1. Die CBS-Datei einlesen, untersuchen und bearbeiten"
   ]
  },
  {
   "cell_type": "code",
   "execution_count": 2,
   "metadata": {},
   "outputs": [],
   "source": [
    "dfCBS = pd.read_excel(\"../data/CBS_Export_3010_3050.xlsx\")"
   ]
  },
  {
   "cell_type": "code",
   "execution_count": 3,
   "metadata": {},
   "outputs": [
    {
     "data": {
      "text/html": [
       "<div>\n",
       "<style scoped>\n",
       "    .dataframe tbody tr th:only-of-type {\n",
       "        vertical-align: middle;\n",
       "    }\n",
       "\n",
       "    .dataframe tbody tr th {\n",
       "        vertical-align: top;\n",
       "    }\n",
       "\n",
       "    .dataframe thead th {\n",
       "        text-align: right;\n",
       "    }\n",
       "</style>\n",
       "<table border=\"1\" class=\"dataframe\">\n",
       "  <thead>\n",
       "    <tr style=\"text-align: right;\">\n",
       "      <th></th>\n",
       "      <th>PPN</th>\n",
       "      <th>EPN</th>\n",
       "      <th>Verfasser</th>\n",
       "      <th>sonstPers</th>\n",
       "      <th>sonstPers2</th>\n",
       "      <th>Titel</th>\n",
       "    </tr>\n",
       "  </thead>\n",
       "  <tbody>\n",
       "    <tr>\n",
       "      <th>0</th>\n",
       "      <td>1733687696</td>\n",
       "      <td>3760966098</td>\n",
       "      <td>Kranert, Janina</td>\n",
       "      <td>Dreier-Wolfgramm, Adina [AkademischeR Betreuer...</td>\n",
       "      <td>NaN</td>\n",
       "      <td>Digitale Pflegesprechstunden in der Primärvers...</td>\n",
       "    </tr>\n",
       "    <tr>\n",
       "      <th>1</th>\n",
       "      <td>1733676007</td>\n",
       "      <td>3760764088</td>\n",
       "      <td>Liebetrau, Frauke</td>\n",
       "      <td>Richter, Miriam Tariba ; ID: gnd/135747341; He...</td>\n",
       "      <td>NaN</td>\n",
       "      <td>Integrationsmaßnahmen zur Förderung der Fach- ...</td>\n",
       "    </tr>\n",
       "    <tr>\n",
       "      <th>2</th>\n",
       "      <td>1733673482</td>\n",
       "      <td>3760750737</td>\n",
       "      <td>Qalanawi, Morteza</td>\n",
       "      <td>Stratmeyer, Peter *1955-* ; ID: gnd/123647495;...</td>\n",
       "      <td>NaN</td>\n",
       "      <td>Bindungsfördernde Arbeitsbedingungen innerhalb...</td>\n",
       "    </tr>\n",
       "    <tr>\n",
       "      <th>3</th>\n",
       "      <td>1733669124</td>\n",
       "      <td>3760732828</td>\n",
       "      <td>Schütt, Christine</td>\n",
       "      <td>Dreier-Wolfgramm, Adina [AkademischeR Betreuer...</td>\n",
       "      <td>NaN</td>\n",
       "      <td>Skills Lab Training in der akademischen Pflege...</td>\n",
       "    </tr>\n",
       "    <tr>\n",
       "      <th>4</th>\n",
       "      <td>1730486541</td>\n",
       "      <td>3749971722</td>\n",
       "      <td>Sprenger, Armin</td>\n",
       "      <td>Witt, Gesine [AkademischeR BetreuerIn]; Kröger...</td>\n",
       "      <td>NaN</td>\n",
       "      <td>Freisetzung von Schadstoffen in die Umwelt dur...</td>\n",
       "    </tr>\n",
       "    <tr>\n",
       "      <th>5</th>\n",
       "      <td>1729857345</td>\n",
       "      <td>3748910134</td>\n",
       "      <td>Knipp, Liisa</td>\n",
       "      <td>Ullrich, Oliver [AkademischeR BetreuerIn]; Kut...</td>\n",
       "      <td>NaN</td>\n",
       "      <td>Klonierung, heterologe Expression und subzellu...</td>\n",
       "    </tr>\n",
       "    <tr>\n",
       "      <th>6</th>\n",
       "      <td>1729822894</td>\n",
       "      <td>3748820674</td>\n",
       "      <td>Hofmann, Robert</td>\n",
       "      <td>Petersen-Ewert, Corinna ; ID: gnd/1148965343; ...</td>\n",
       "      <td>NaN</td>\n",
       "      <td>Burnout bei Pflegefachkräften in der stationär...</td>\n",
       "    </tr>\n",
       "    <tr>\n",
       "      <th>7</th>\n",
       "      <td>1729195466</td>\n",
       "      <td>3748003773</td>\n",
       "      <td>Brand, Janine</td>\n",
       "      <td>Richter, Miriam Tariba ; ID: gnd/135747341; Be...</td>\n",
       "      <td>NaN</td>\n",
       "      <td>Pflegerische Förderung der Bindungsentwicklung...</td>\n",
       "    </tr>\n",
       "    <tr>\n",
       "      <th>8</th>\n",
       "      <td>1729181589</td>\n",
       "      <td>3747983693</td>\n",
       "      <td>Georg, Marie</td>\n",
       "      <td>Dreier-Wolfgramm, Adina [AkademischeR Betreuer...</td>\n",
       "      <td>NaN</td>\n",
       "      <td>Konzepte und Lerneffekte für interprofessionel...</td>\n",
       "    </tr>\n",
       "    <tr>\n",
       "      <th>9</th>\n",
       "      <td>172915655X</td>\n",
       "      <td>3747905307</td>\n",
       "      <td>Buchholz, Jeannie</td>\n",
       "      <td>Dreier-Wolfgramm, Adina [AkademischeR Betreuer...</td>\n",
       "      <td>NaN</td>\n",
       "      <td>Digitalisierung der Pflegedokumentation in Kra...</td>\n",
       "    </tr>\n",
       "  </tbody>\n",
       "</table>\n",
       "</div>"
      ],
      "text/plain": [
       "          PPN         EPN          Verfasser  \\\n",
       "0  1733687696  3760966098    Kranert, Janina   \n",
       "1  1733676007  3760764088  Liebetrau, Frauke   \n",
       "2  1733673482  3760750737  Qalanawi, Morteza   \n",
       "3  1733669124  3760732828  Schütt, Christine   \n",
       "4  1730486541  3749971722    Sprenger, Armin   \n",
       "5  1729857345  3748910134       Knipp, Liisa   \n",
       "6  1729822894  3748820674    Hofmann, Robert   \n",
       "7  1729195466  3748003773      Brand, Janine   \n",
       "8  1729181589  3747983693       Georg, Marie   \n",
       "9  172915655X  3747905307  Buchholz, Jeannie   \n",
       "\n",
       "                                           sonstPers sonstPers2  \\\n",
       "0  Dreier-Wolfgramm, Adina [AkademischeR Betreuer...        NaN   \n",
       "1  Richter, Miriam Tariba ; ID: gnd/135747341; He...        NaN   \n",
       "2  Stratmeyer, Peter *1955-* ; ID: gnd/123647495;...        NaN   \n",
       "3  Dreier-Wolfgramm, Adina [AkademischeR Betreuer...        NaN   \n",
       "4  Witt, Gesine [AkademischeR BetreuerIn]; Kröger...        NaN   \n",
       "5  Ullrich, Oliver [AkademischeR BetreuerIn]; Kut...        NaN   \n",
       "6  Petersen-Ewert, Corinna ; ID: gnd/1148965343; ...        NaN   \n",
       "7  Richter, Miriam Tariba ; ID: gnd/135747341; Be...        NaN   \n",
       "8  Dreier-Wolfgramm, Adina [AkademischeR Betreuer...        NaN   \n",
       "9  Dreier-Wolfgramm, Adina [AkademischeR Betreuer...        NaN   \n",
       "\n",
       "                                               Titel  \n",
       "0  Digitale Pflegesprechstunden in der Primärvers...  \n",
       "1  Integrationsmaßnahmen zur Förderung der Fach- ...  \n",
       "2  Bindungsfördernde Arbeitsbedingungen innerhalb...  \n",
       "3  Skills Lab Training in der akademischen Pflege...  \n",
       "4  Freisetzung von Schadstoffen in die Umwelt dur...  \n",
       "5  Klonierung, heterologe Expression und subzellu...  \n",
       "6  Burnout bei Pflegefachkräften in der stationär...  \n",
       "7  Pflegerische Förderung der Bindungsentwicklung...  \n",
       "8  Konzepte und Lerneffekte für interprofessionel...  \n",
       "9  Digitalisierung der Pflegedokumentation in Kra...  "
      ]
     },
     "execution_count": 3,
     "metadata": {},
     "output_type": "execute_result"
    }
   ],
   "source": [
    "#Alle vorhandenen Spalten werden mit ...max_columns, None... angezeigt \n",
    "pd.set_option('max_columns', None)\n",
    "dfCBS.head(10)"
   ]
  },
  {
   "cell_type": "code",
   "execution_count": 4,
   "metadata": {},
   "outputs": [],
   "source": [
    "#Die nicht benötigte Spalte \"EPN\" mit \"drop\" löschen:\n",
    "dfCBS = dfCBS.drop(['EPN'], axis=1)"
   ]
  },
  {
   "cell_type": "code",
   "execution_count": 5,
   "metadata": {},
   "outputs": [
    {
     "data": {
      "text/html": [
       "<div>\n",
       "<style scoped>\n",
       "    .dataframe tbody tr th:only-of-type {\n",
       "        vertical-align: middle;\n",
       "    }\n",
       "\n",
       "    .dataframe tbody tr th {\n",
       "        vertical-align: top;\n",
       "    }\n",
       "\n",
       "    .dataframe thead th {\n",
       "        text-align: right;\n",
       "    }\n",
       "</style>\n",
       "<table border=\"1\" class=\"dataframe\">\n",
       "  <thead>\n",
       "    <tr style=\"text-align: right;\">\n",
       "      <th></th>\n",
       "      <th>PPN</th>\n",
       "      <th>Verfasser</th>\n",
       "      <th>sonstPers</th>\n",
       "      <th>sonstPers2</th>\n",
       "      <th>Titel</th>\n",
       "    </tr>\n",
       "  </thead>\n",
       "  <tbody>\n",
       "    <tr>\n",
       "      <th>0</th>\n",
       "      <td>1733687696</td>\n",
       "      <td>Kranert, Janina</td>\n",
       "      <td>Dreier-Wolfgramm, Adina [AkademischeR Betreuer...</td>\n",
       "      <td>NaN</td>\n",
       "      <td>Digitale Pflegesprechstunden in der Primärvers...</td>\n",
       "    </tr>\n",
       "    <tr>\n",
       "      <th>1</th>\n",
       "      <td>1733676007</td>\n",
       "      <td>Liebetrau, Frauke</td>\n",
       "      <td>Richter, Miriam Tariba ; ID: gnd/135747341; He...</td>\n",
       "      <td>NaN</td>\n",
       "      <td>Integrationsmaßnahmen zur Förderung der Fach- ...</td>\n",
       "    </tr>\n",
       "    <tr>\n",
       "      <th>2</th>\n",
       "      <td>1733673482</td>\n",
       "      <td>Qalanawi, Morteza</td>\n",
       "      <td>Stratmeyer, Peter *1955-* ; ID: gnd/123647495;...</td>\n",
       "      <td>NaN</td>\n",
       "      <td>Bindungsfördernde Arbeitsbedingungen innerhalb...</td>\n",
       "    </tr>\n",
       "    <tr>\n",
       "      <th>3</th>\n",
       "      <td>1733669124</td>\n",
       "      <td>Schütt, Christine</td>\n",
       "      <td>Dreier-Wolfgramm, Adina [AkademischeR Betreuer...</td>\n",
       "      <td>NaN</td>\n",
       "      <td>Skills Lab Training in der akademischen Pflege...</td>\n",
       "    </tr>\n",
       "    <tr>\n",
       "      <th>4</th>\n",
       "      <td>1730486541</td>\n",
       "      <td>Sprenger, Armin</td>\n",
       "      <td>Witt, Gesine [AkademischeR BetreuerIn]; Kröger...</td>\n",
       "      <td>NaN</td>\n",
       "      <td>Freisetzung von Schadstoffen in die Umwelt dur...</td>\n",
       "    </tr>\n",
       "    <tr>\n",
       "      <th>5</th>\n",
       "      <td>1729857345</td>\n",
       "      <td>Knipp, Liisa</td>\n",
       "      <td>Ullrich, Oliver [AkademischeR BetreuerIn]; Kut...</td>\n",
       "      <td>NaN</td>\n",
       "      <td>Klonierung, heterologe Expression und subzellu...</td>\n",
       "    </tr>\n",
       "    <tr>\n",
       "      <th>6</th>\n",
       "      <td>1729822894</td>\n",
       "      <td>Hofmann, Robert</td>\n",
       "      <td>Petersen-Ewert, Corinna ; ID: gnd/1148965343; ...</td>\n",
       "      <td>NaN</td>\n",
       "      <td>Burnout bei Pflegefachkräften in der stationär...</td>\n",
       "    </tr>\n",
       "    <tr>\n",
       "      <th>7</th>\n",
       "      <td>1729195466</td>\n",
       "      <td>Brand, Janine</td>\n",
       "      <td>Richter, Miriam Tariba ; ID: gnd/135747341; Be...</td>\n",
       "      <td>NaN</td>\n",
       "      <td>Pflegerische Förderung der Bindungsentwicklung...</td>\n",
       "    </tr>\n",
       "    <tr>\n",
       "      <th>8</th>\n",
       "      <td>1729181589</td>\n",
       "      <td>Georg, Marie</td>\n",
       "      <td>Dreier-Wolfgramm, Adina [AkademischeR Betreuer...</td>\n",
       "      <td>NaN</td>\n",
       "      <td>Konzepte und Lerneffekte für interprofessionel...</td>\n",
       "    </tr>\n",
       "    <tr>\n",
       "      <th>9</th>\n",
       "      <td>172915655X</td>\n",
       "      <td>Buchholz, Jeannie</td>\n",
       "      <td>Dreier-Wolfgramm, Adina [AkademischeR Betreuer...</td>\n",
       "      <td>NaN</td>\n",
       "      <td>Digitalisierung der Pflegedokumentation in Kra...</td>\n",
       "    </tr>\n",
       "  </tbody>\n",
       "</table>\n",
       "</div>"
      ],
      "text/plain": [
       "          PPN          Verfasser  \\\n",
       "0  1733687696    Kranert, Janina   \n",
       "1  1733676007  Liebetrau, Frauke   \n",
       "2  1733673482  Qalanawi, Morteza   \n",
       "3  1733669124  Schütt, Christine   \n",
       "4  1730486541    Sprenger, Armin   \n",
       "5  1729857345       Knipp, Liisa   \n",
       "6  1729822894    Hofmann, Robert   \n",
       "7  1729195466      Brand, Janine   \n",
       "8  1729181589       Georg, Marie   \n",
       "9  172915655X  Buchholz, Jeannie   \n",
       "\n",
       "                                           sonstPers sonstPers2  \\\n",
       "0  Dreier-Wolfgramm, Adina [AkademischeR Betreuer...        NaN   \n",
       "1  Richter, Miriam Tariba ; ID: gnd/135747341; He...        NaN   \n",
       "2  Stratmeyer, Peter *1955-* ; ID: gnd/123647495;...        NaN   \n",
       "3  Dreier-Wolfgramm, Adina [AkademischeR Betreuer...        NaN   \n",
       "4  Witt, Gesine [AkademischeR BetreuerIn]; Kröger...        NaN   \n",
       "5  Ullrich, Oliver [AkademischeR BetreuerIn]; Kut...        NaN   \n",
       "6  Petersen-Ewert, Corinna ; ID: gnd/1148965343; ...        NaN   \n",
       "7  Richter, Miriam Tariba ; ID: gnd/135747341; Be...        NaN   \n",
       "8  Dreier-Wolfgramm, Adina [AkademischeR Betreuer...        NaN   \n",
       "9  Dreier-Wolfgramm, Adina [AkademischeR Betreuer...        NaN   \n",
       "\n",
       "                                               Titel  \n",
       "0  Digitale Pflegesprechstunden in der Primärvers...  \n",
       "1  Integrationsmaßnahmen zur Förderung der Fach- ...  \n",
       "2  Bindungsfördernde Arbeitsbedingungen innerhalb...  \n",
       "3  Skills Lab Training in der akademischen Pflege...  \n",
       "4  Freisetzung von Schadstoffen in die Umwelt dur...  \n",
       "5  Klonierung, heterologe Expression und subzellu...  \n",
       "6  Burnout bei Pflegefachkräften in der stationär...  \n",
       "7  Pflegerische Förderung der Bindungsentwicklung...  \n",
       "8  Konzepte und Lerneffekte für interprofessionel...  \n",
       "9  Digitalisierung der Pflegedokumentation in Kra...  "
      ]
     },
     "execution_count": 5,
     "metadata": {},
     "output_type": "execute_result"
    }
   ],
   "source": [
    "pd.set_option('max_columns', None)\n",
    "dfCBS.head(10)"
   ]
  },
  {
   "cell_type": "code",
   "execution_count": 6,
   "metadata": {},
   "outputs": [
    {
     "ename": "NameError",
     "evalue": "name 'dfCBSneu' is not defined",
     "output_type": "error",
     "traceback": [
      "\u001b[0;31m---------------------------------------------------------------------------\u001b[0m",
      "\u001b[0;31mNameError\u001b[0m                                 Traceback (most recent call last)",
      "\u001b[0;32m<ipython-input-6-690bc139790c>\u001b[0m in \u001b[0;36m<module>\u001b[0;34m\u001b[0m\n\u001b[0;32m----> 1\u001b[0;31m \u001b[0mdfCBSneu\u001b[0m\u001b[0;34m.\u001b[0m\u001b[0mshape\u001b[0m\u001b[0;34m\u001b[0m\u001b[0;34m\u001b[0m\u001b[0m\n\u001b[0m",
      "\u001b[0;31mNameError\u001b[0m: name 'dfCBSneu' is not defined"
     ]
    }
   ],
   "source": [
    "dfCBSneu.shape"
   ]
  },
  {
   "cell_type": "code",
   "execution_count": null,
   "metadata": {},
   "outputs": [],
   "source": [
    "#Wie viele Datensätze sind bei \"sonstPers\" leer? \n",
    "dfCBS['sonstPers'].isna().sum()"
   ]
  },
  {
   "cell_type": "code",
   "execution_count": null,
   "metadata": {},
   "outputs": [],
   "source": [
    "#Wie viele Datensätze sind bei \"sonstPers2\" leer? \n",
    "dfCBS['sonstPers2'].isna().sum()"
   ]
  },
  {
   "cell_type": "code",
   "execution_count": null,
   "metadata": {},
   "outputs": [],
   "source": [
    "#Versuch, den Inhalt der Spalte \"sonstPers2\" in die Spalte \"sonstPers\" zu schreiben, falls sonstPers2 nicht \n",
    "#NaN ist mit der Funktion update:\n",
    "dfCBS['sonstPers'].update(dfCBS['sonstPers2'])"
   ]
  },
  {
   "cell_type": "code",
   "execution_count": null,
   "metadata": {},
   "outputs": [],
   "source": [
    "pd.set_option(\"max_rows\", None)\n",
    "dfCBS.head"
   ]
  },
  {
   "cell_type": "code",
   "execution_count": null,
   "metadata": {},
   "outputs": [],
   "source": [
    "#Hat geklappt: Alle Personennamen stehen jetzt in \"sonstPers\", die Spalte \"sonstPers2\" kann gelöscht werden\n",
    "dfCBS = dfCBS.drop(['sonstPers2'], axis=1)"
   ]
  },
  {
   "cell_type": "code",
   "execution_count": null,
   "metadata": {},
   "outputs": [],
   "source": [
    "dfCBS.head(10)"
   ]
  },
  {
   "cell_type": "code",
   "execution_count": null,
   "metadata": {},
   "outputs": [],
   "source": [
    "dfCBS.to_excel(\"CBSneu.xlsx\")\n",
    "#Sichtung der Excel-Datei: Scheint alles korrekt zu sein - die Spalte \"sonstPers\" enthält jetzt durchgehend\n",
    "#alle Personen (nur bei ca. 5 Datensätzen ist dieses Feld leer). ABER: alle folgenden u.g. Operationen\n",
    "#funktionieren beim ersten Versuch nur bei den Datensätzen, die vor dem updaten schon in der Spalte \n",
    "#\"sonstPers\" standen!! #D.h. die aus der Spalte \"sonstPers2\" übernommenen Personen werden offenbar \n",
    "#nicht erkannt? -- Daher nun die CBS-Datei neu einlesen. "
   ]
  },
  {
   "cell_type": "code",
   "execution_count": null,
   "metadata": {},
   "outputs": [],
   "source": [
    "#Neu einlesen der neuen Excel-Datei führt dazu, dass die u.g. Operationen funktionieren. Warum geht es nicht\n",
    "#weiter wie gehabt mit der Variable \"dfCBSneu\" ?? \n",
    "dfCBSneu = pd.read_excel(\"../data/CBSneu.xlsx\")"
   ]
  },
  {
   "cell_type": "code",
   "execution_count": null,
   "metadata": {},
   "outputs": [],
   "source": [
    "#Eventuelle Integer-Werte in Strings umwandeln, damit alle weiteren Operationen funktionieren\n",
    "dfCBSneu['sonstPers'] = dfCBSneu['sonstPers'].astype(\"str\")"
   ]
  },
  {
   "cell_type": "code",
   "execution_count": null,
   "metadata": {},
   "outputs": [],
   "source": [
    "dfCBSneu.head(5)"
   ]
  },
  {
   "cell_type": "code",
   "execution_count": null,
   "metadata": {},
   "outputs": [],
   "source": [
    "#Vor dem Mergen sollen in dieser Datei die Personen in getrennten Spalten nachgewiesen werden: Der erste \n",
    "#Referent in einer Spalte namens \"Ref\", alle Ko-Referenten in einer zweiten Spalte \"RefID_plus_KoRef\". \n",
    "#Für letzteres alles was bei \"sonstPers\" rechts des ersten Semikolons steht, in eine neue Spalte \n",
    "#\"RefID_plus_KoRef\" schreiben: \n",
    "dfCBSneu['RefID_plus_KoRef'] = dfCBSneu['sonstPers'].apply(lambda cell: \";\".join(cell.split(\";\")[1:]))"
   ]
  },
  {
   "cell_type": "code",
   "execution_count": null,
   "metadata": {},
   "outputs": [],
   "source": [
    "dfCBSneu.head(10)"
   ]
  },
  {
   "cell_type": "code",
   "execution_count": null,
   "metadata": {},
   "outputs": [],
   "source": [
    "#Als neue Excel-Tabelle speichern, um prüfen zu können:\n",
    "dfCBSneu.to_excel(\"CBSneuRefID_plus_KoRef.xlsx\")\n",
    "#Dort gibt es jetzt tatsächlich keine Datensätze mehr, die leer bzw. \"nan\" sind! Allerdings eine zusätzliche\n",
    "#Index-Spalte namens \"Unnamed:0\""
   ]
  },
  {
   "cell_type": "code",
   "execution_count": null,
   "metadata": {},
   "outputs": [],
   "source": [
    "#Nun alles, was in der Spalte \"sonstPers\" links des ersten Semikolons steht, in eine neue Spalte \n",
    "#\"Ref\" schreiben:\n",
    "dfCBSneu['Ref'] = dfCBSneu['sonstPers'].apply(lambda cell: \";\".join(cell.split(\";\")[:1]))"
   ]
  },
  {
   "cell_type": "code",
   "execution_count": null,
   "metadata": {},
   "outputs": [],
   "source": [
    "dfCBSneu.head(5)"
   ]
  },
  {
   "cell_type": "code",
   "execution_count": null,
   "metadata": {},
   "outputs": [],
   "source": [
    "dfCBSneu.shape"
   ]
  },
  {
   "cell_type": "code",
   "execution_count": null,
   "metadata": {},
   "outputs": [],
   "source": [
    "#Als neue Excel-Tabelle speichern, um prüfen zu können:\n",
    "dfCBSneu.to_excel(\"CBSneuRef.xlsx\")\n",
    "#Alle Spalten mit Personennamen sind korrekt befüllt!"
   ]
  },
  {
   "cell_type": "code",
   "execution_count": null,
   "metadata": {},
   "outputs": [],
   "source": [
    "#Diese neue Excel-Datei einlesen\n",
    "dfCBSneu = pd.read_excel(\"../data/CBSneuRef.xlsx\")"
   ]
  },
  {
   "cell_type": "code",
   "execution_count": null,
   "metadata": {},
   "outputs": [],
   "source": [
    "#Eventuelle nächste Schritte an dieser STelle: \n",
    "#Alles was in der Spalte \"RfID_plus_KoRef\" nach dem ersten Semikolon steht, in eine neue Spalte \n",
    "#KoRef\" schreiben. Nicht sinnvoll, weil dann teilw. bei \"KoRef\" nur IDs stehen, keine Namen.\n",
    "#dfCBSneu['KoRef'] = dfCBSneu['RefID_plus_KoRef'].apply(lambda cell: \";\".join(cell.split(\";\")[:1]))"
   ]
  },
  {
   "cell_type": "code",
   "execution_count": null,
   "metadata": {},
   "outputs": [],
   "source": [
    "dfCBSneu.head(5)"
   ]
  },
  {
   "cell_type": "code",
   "execution_count": null,
   "metadata": {},
   "outputs": [],
   "source": [
    "#Die beiden neu entstandenen Index-Spalten löschen\n",
    "dfCBSneu = dfCBSneu.drop(['Unnamed: 0'], axis=1)"
   ]
  },
  {
   "cell_type": "code",
   "execution_count": null,
   "metadata": {},
   "outputs": [],
   "source": [
    "dfCBSneu = dfCBSneu.drop(['Unnamed: 0.1'], axis=1)"
   ]
  },
  {
   "cell_type": "code",
   "execution_count": null,
   "metadata": {},
   "outputs": [],
   "source": [
    "dfCBSneu.head(5)"
   ]
  },
  {
   "cell_type": "markdown",
   "metadata": {},
   "source": [
    "# 2. Die Reposit-Datei einlesen, untersuchen und bearbeiten "
   ]
  },
  {
   "cell_type": "code",
   "execution_count": null,
   "metadata": {},
   "outputs": [],
   "source": [
    "dfReposit = pd.read_excel(\"../data/AbschlussarbeitenReposit.xlsx\")"
   ]
  },
  {
   "cell_type": "code",
   "execution_count": null,
   "metadata": {},
   "outputs": [],
   "source": [
    "#Alle vorhandenen Spalten werden mit ...max_columns, None... angezeigt \n",
    "pd.set_option('max_columns', None)\n",
    "dfReposit.head(10)"
   ]
  },
  {
   "cell_type": "code",
   "execution_count": null,
   "metadata": {},
   "outputs": [],
   "source": [
    "dfReposit.columns"
   ]
  },
  {
   "cell_type": "code",
   "execution_count": null,
   "metadata": {},
   "outputs": [],
   "source": [
    "#Für die spätere Weiterverarbeitng müssen nur die Spalten id und collection erhalten bleiben. Die Betreuer*innen\n",
    "#sollen in die Spalten \"dc.contributor.advisor' bzw. 'tuhh.contributor.referee'. Zur Kontrolle\n",
    "#sollen auch Autor*in (Spalte 'dc.contributor.author[]') und der Titel (Spalte 'dc.title[de]' bzw.\n",
    "# 'dc.title[en]') bleiben. Und natürlich die Spalte mit dem Identifikator (ppn): 'tuhh.gvk.ppn[]'\n",
    "#D.h. es sollen insg. 8 Spalten bestehen bleiben. \n",
    "#Die nicht benötigten Spalten mit \"drop\" löschen und Ergebnis in eine neue Variable schreiben:\n",
    "dfReposit8Spalten = dfReposit.drop(['dc.contributor.author', 'dc.contributor.other[]',\n",
    "       'dc.contributorCorporate.other[]', 'dc.date.created',\n",
    "       'dc.date.created[]', 'dc.date.issued', 'dc.date.issued[]',\n",
    "       'dc.description.abstract[]', 'dc.description.abstract[de]',\n",
    "       'dc.description.abstract[en]', 'dc.description.abstract[en_US]',\n",
    "       'dc.description.abstract[mis]', 'dc.identifier.uri',\n",
    "       'dc.identifier.urn[]', 'dc.language.iso[de]', 'dc.language.iso[en]',\n",
    "       'dc.language.iso[en_US]', 'dc.relation.isreplacedby', 'dc.rights.cc[]',\n",
    "       'dc.rights.cc[en_US]', 'dc.subject.ddc', 'dc.subject.ddc[]',\n",
    "       'dc.subject.ddc[en_US]', 'dc.subject.gnd', 'dc.subject.gnd[]',\n",
    "       'dc.subject[de]', 'dc.subject[en]', 'dc.subject[en_US]',\n",
    "       'dc.title.alternative[en]',\n",
    "       'dc.title[en_US]', 'dc.type', 'dc.type.casrai', 'dc.type.dini',\n",
    "       'dc.type.driver', 'dc.type.status', 'dc.type.status[]',\n",
    "       'dc.type.status[en_US]', 'dc.type.thesis', 'dc.type.thesis[]',\n",
    "       'dc.type.thesis[en_US]', 'dc.type[]', 'dc.type[en_US]',\n",
    "       'dcterms.DCMIType', 'local.comment', 'openaire.rights',\n",
    "       'openaire.rights[]', 'openaire.rights[en_US]',\n",
    "       'thesis.grantor.department', 'thesis.grantor.department[]',\n",
    "       'thesis.grantor.department[en_US]', 'thesis.grantor.place',\n",
    "       'thesis.grantor.place[]', 'thesis.grantor.universityOrInstitution',\n",
    "       'thesis.grantor.universityOrInstitution[]',\n",
    "       'thesis.grantor.universityOrInstitution[en_US]',\n",
    "        'tuhh.gvk.ppn', 'tuhh.note.extern', 'tuhh.note.extern[]', 'tuhh.note.intern',\n",
    "       'tuhh.note.intern[]', 'tuhh.oai.show[en_US]', 'tuhh.opus.id',\n",
    "       'tuhh.opus.id[]', 'tuhh.publication.institute',\n",
    "       'tuhh.publication.institute[]', 'tuhh.publication.institute[en_US]',\n",
    "       'tuhh.type.opus', 'tuhh.uploader.email', 'tuhh.uploader.email[]'], axis=1)"
   ]
  },
  {
   "cell_type": "code",
   "execution_count": null,
   "metadata": {},
   "outputs": [],
   "source": [
    "dfReposit8Spalten.head()"
   ]
  },
  {
   "cell_type": "code",
   "execution_count": null,
   "metadata": {},
   "outputs": [],
   "source": [
    "#Die Spalte 'tuhh.gvk.ppn[]' soll umbenannt werden in 'PPN' \n",
    "dfReposit8Spalten.rename(columns={'tuhh.gvk.ppn[]': 'PPN'}, inplace=True)"
   ]
  },
  {
   "cell_type": "code",
   "execution_count": null,
   "metadata": {},
   "outputs": [],
   "source": [
    "dfReposit8Spalten.head()"
   ]
  },
  {
   "cell_type": "code",
   "execution_count": null,
   "metadata": {},
   "outputs": [],
   "source": [
    "dfReposit8Spalten.columns"
   ]
  },
  {
   "cell_type": "code",
   "execution_count": null,
   "metadata": {},
   "outputs": [],
   "source": [
    "dfReposit8Spalten.shape"
   ]
  },
  {
   "cell_type": "code",
   "execution_count": null,
   "metadata": {},
   "outputs": [],
   "source": [
    "#Wie viele Datensätze enthalten keine PPN (sondern NaN)?\n",
    "dfReposit8Spalten['PPN'].isna().sum()"
   ]
  },
  {
   "cell_type": "code",
   "execution_count": null,
   "metadata": {},
   "outputs": [],
   "source": [
    "#Diese 168 Zeilen sollen gelöscht werden und das Ergebnis in eine neue Variable geschrieben werden\n",
    "dfRepo = dfReposit8Spalten.dropna(subset=['PPN'])"
   ]
  },
  {
   "cell_type": "code",
   "execution_count": null,
   "metadata": {},
   "outputs": [],
   "source": [
    "dfRepo.shape"
   ]
  },
  {
   "cell_type": "code",
   "execution_count": null,
   "metadata": {},
   "outputs": [],
   "source": [
    "print(dfRepo)"
   ]
  },
  {
   "cell_type": "code",
   "execution_count": null,
   "metadata": {},
   "outputs": [],
   "source": [
    "dfRepo.head(5)"
   ]
  },
  {
   "cell_type": "code",
   "execution_count": null,
   "metadata": {},
   "outputs": [],
   "source": [
    "dfCBSneu.head(5)"
   ]
  },
  {
   "cell_type": "code",
   "execution_count": null,
   "metadata": {},
   "outputs": [],
   "source": [
    "#Nächste Schritte: Weitere Bereinigungen: Evtl. zwei PPNs in einer Zelle ; Zeileninhalte evtl. verschoben ; ..."
   ]
  },
  {
   "cell_type": "markdown",
   "metadata": {},
   "source": [
    "# 3. Beide Dateien an der PPNn mergen "
   ]
  },
  {
   "cell_type": "code",
   "execution_count": null,
   "metadata": {},
   "outputs": [],
   "source": [
    "#Erster Merge-Versuch:\n",
    "Merge1 = dfRepo.merge(dfCBSneu, on='PPN', how='inner')"
   ]
  },
  {
   "cell_type": "code",
   "execution_count": null,
   "metadata": {},
   "outputs": [],
   "source": [
    "Merge1.shape"
   ]
  },
  {
   "cell_type": "code",
   "execution_count": null,
   "metadata": {
    "scrolled": true
   },
   "outputs": [],
   "source": [
    "#Warum wurden nur 403 Datensätze gemerged??\n",
    "Merge1.head(15)"
   ]
  },
  {
   "cell_type": "code",
   "execution_count": null,
   "metadata": {},
   "outputs": [],
   "source": [
    "#Als neue Excel-Tabelle speichern, um prüfen zu können:\n",
    "Merge1.to_excel(\"Merge1.xlsx\")\n",
    "#Keine Ursache erkennbar, warum nur diese Datensätze gemerged wurden!"
   ]
  },
  {
   "cell_type": "code",
   "execution_count": null,
   "metadata": {},
   "outputs": [],
   "source": []
  },
  {
   "cell_type": "code",
   "execution_count": null,
   "metadata": {},
   "outputs": [],
   "source": []
  },
  {
   "cell_type": "code",
   "execution_count": null,
   "metadata": {},
   "outputs": [],
   "source": []
  }
 ],
 "metadata": {
  "kernelspec": {
   "display_name": "Python 3",
   "language": "python",
   "name": "python3"
  },
  "language_info": {
   "codemirror_mode": {
    "name": "ipython",
    "version": 3
   },
   "file_extension": ".py",
   "mimetype": "text/x-python",
   "name": "python",
   "nbconvert_exporter": "python",
   "pygments_lexer": "ipython3",
   "version": "3.8.5"
  }
 },
 "nbformat": 4,
 "nbformat_minor": 4
}
