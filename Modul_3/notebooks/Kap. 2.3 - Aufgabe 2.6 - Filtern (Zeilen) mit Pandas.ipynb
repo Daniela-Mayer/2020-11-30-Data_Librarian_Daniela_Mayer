{
 "cells": [
  {
   "cell_type": "code",
   "execution_count": 3,
   "metadata": {},
   "outputs": [
    {
     "data": {
      "text/plain": [
       "Index(['Patron Type Code', 'Patron Type Definition', 'Total Checkouts',\n",
       "       'Total Renewals', 'Age Range', 'Home Library Code',\n",
       "       'Home Library Definition', 'Circulation Active Month',\n",
       "       'Circulation Active Year', 'Notice Preference Code',\n",
       "       'Notice Preference Definition', 'Provided Email Address',\n",
       "       'Year Patron Registered', 'Outside of County', 'Supervisor District'],\n",
       "      dtype='object')"
      ]
     },
     "execution_count": 3,
     "metadata": {},
     "output_type": "execute_result"
    }
   ],
   "source": [
    "import pandas as pd\n",
    "df = pd.read_csv(\"../data/Library_Usage.csv\")\n",
    "df.columns"
   ]
  },
  {
   "cell_type": "code",
   "execution_count": 4,
   "metadata": {},
   "outputs": [
    {
     "data": {
      "text/plain": [
       "38242"
      ]
     },
     "execution_count": 4,
     "metadata": {},
     "output_type": "execute_result"
    }
   ],
   "source": [
    "#Nur die Datensätze der Kinder unter 10 Jahren filtern (also Age Range = 0 to 9 years)\n",
    "#Summe ausgeben lasse, wie viele Datensätze dies sind\n",
    "(df['Age Range'] == '0 to 9 years').sum()"
   ]
  },
  {
   "cell_type": "code",
   "execution_count": 5,
   "metadata": {},
   "outputs": [
    {
     "data": {
      "text/plain": [
       "3"
      ]
     },
     "execution_count": 5,
     "metadata": {},
     "output_type": "execute_result"
    }
   ],
   "source": [
    "#Wie viele Personen mit mehr als 20000 Ausleihen gibt es?\n",
    "(df['Total Checkouts'] > 20000).sum()"
   ]
  },
  {
   "cell_type": "code",
   "execution_count": 6,
   "metadata": {},
   "outputs": [
    {
     "data": {
      "text/plain": [
       "70091"
      ]
     },
     "execution_count": 6,
     "metadata": {},
     "output_type": "execute_result"
    }
   ],
   "source": [
    "#Wie viele Personen stammen aus dem Norden San Franciscos (Supervisor Districts 1, 2 und 3)? \n",
    "#Die Funktion Series.isin() prüft die Elemente auf die angegebenen Werte in ().\n",
    "df['Supervisor District'].isin([1, 2, 3]).sum()"
   ]
  },
  {
   "cell_type": "code",
   "execution_count": 7,
   "metadata": {},
   "outputs": [
    {
     "name": "stdout",
     "output_type": "stream",
     "text": [
      "70091\n"
     ]
    }
   ],
   "source": [
    "#Alternative Lösung mit der Funktion len()\n",
    "print(len(df[df['Supervisor District'].isin([1, 2, 3])]))"
   ]
  },
  {
   "cell_type": "code",
   "execution_count": 11,
   "metadata": {},
   "outputs": [
    {
     "data": {
      "text/plain": [
       "0.16035971358938997"
      ]
     },
     "execution_count": 11,
     "metadata": {},
     "output_type": "execute_result"
    }
   ],
   "source": [
    "#Wie viel Prozent der Beobachtungen haben eine Membership Duration von Null Monaten?\n",
    "#Hierfür wird die in Aufgabe 2.5 neu definierte Variable 'Membership Duration' benötigt. \n",
    "#D.h. diese Datei wird benötigt (oder alles nochmal durchrechnen). \n",
    "df = pd.read_csv(\"../data/Library_Usage_Membership.csv\")\n",
    "df.columns\n",
    "(df['Membership Duration'] == 0).mean()"
   ]
  },
  {
   "cell_type": "code",
   "execution_count": 12,
   "metadata": {},
   "outputs": [
    {
     "name": "stdout",
     "output_type": "stream",
     "text": [
      "0.16035971358938997\n"
     ]
    }
   ],
   "source": [
    "#Alternative Lösung mit len()\n",
    "print(len(df[df['Membership Duration'] == 0])/len(df))"
   ]
  },
  {
   "cell_type": "code",
   "execution_count": null,
   "metadata": {},
   "outputs": [],
   "source": []
  },
  {
   "cell_type": "code",
   "execution_count": null,
   "metadata": {},
   "outputs": [],
   "source": []
  }
 ],
 "metadata": {
  "kernelspec": {
   "display_name": "Python 3",
   "language": "python",
   "name": "python3"
  },
  "language_info": {
   "codemirror_mode": {
    "name": "ipython",
    "version": 3
   },
   "file_extension": ".py",
   "mimetype": "text/x-python",
   "name": "python",
   "nbconvert_exporter": "python",
   "pygments_lexer": "ipython3",
   "version": "3.8.5"
  }
 },
 "nbformat": 4,
 "nbformat_minor": 2
}
