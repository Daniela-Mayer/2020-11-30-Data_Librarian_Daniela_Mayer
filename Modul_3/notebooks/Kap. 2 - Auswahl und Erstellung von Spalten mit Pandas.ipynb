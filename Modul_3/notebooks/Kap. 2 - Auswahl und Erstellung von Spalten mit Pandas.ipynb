{
 "cells": [
  {
   "cell_type": "code",
   "execution_count": 1,
   "metadata": {},
   "outputs": [
    {
     "data": {
      "text/plain": [
       "Index(['Patron Type Code', 'Patron Type Definition', 'Total Checkouts',\n",
       "       'Total Renewals', 'Age Range', 'Home Library Code',\n",
       "       'Home Library Definition', 'Circulation Active Month',\n",
       "       'Circulation Active Year', 'Notice Preference Code',\n",
       "       'Notice Preference Definition', 'Provided Email Address',\n",
       "       'Year Patron Registered', 'Outside of County', 'Supervisor District'],\n",
       "      dtype='object')"
      ]
     },
     "execution_count": 1,
     "metadata": {},
     "output_type": "execute_result"
    }
   ],
   "source": [
    "import pandas as pd\n",
    "df = pd.read_csv(\"../data/Library_Usage.csv\")\n",
    "df.columns"
   ]
  },
  {
   "cell_type": "code",
   "execution_count": 12,
   "metadata": {},
   "outputs": [
    {
     "name": "stdout",
     "output_type": "stream",
     "text": [
      "0          0\n",
      "1         22\n",
      "2          0\n",
      "3          0\n",
      "4         11\n",
      "          ..\n",
      "423443    13\n",
      "423444    11\n",
      "423445    58\n",
      "423446     0\n",
      "423447     0\n",
      "Name: Total Renewals, Length: 423448, dtype: int64\n",
      "        Total Renewals  Total Checkouts\n",
      "0                    0                0\n",
      "1                   22               31\n",
      "2                    0                0\n",
      "3                    0                0\n",
      "4                   11              126\n",
      "...                ...              ...\n",
      "423443              13              291\n",
      "423444              11               15\n",
      "423445              58              208\n",
      "423446               0               26\n",
      "423447               0                0\n",
      "\n",
      "[423448 rows x 2 columns]\n"
     ]
    }
   ],
   "source": [
    "x = df['Total Renewals']\n",
    "df[['Total Renewals', 'Total Checkouts']]\n",
    "columm_names = ['Total Renewals', 'Total Checkouts'] # Dies ist eine Hilfsvariable (Alternativ zu Zeile 2)\n",
    "subset = df[column_names]\n",
    "print(x)\n",
    "print(subset)"
   ]
  },
  {
   "cell_type": "code",
   "execution_count": 15,
   "metadata": {},
   "outputs": [
    {
     "data": {
      "text/plain": [
       "Index(['Patron Type Code', 'Patron Type Definition', 'Total Checkouts',\n",
       "       'Total Renewals', 'Age Range', 'Home Library Code',\n",
       "       'Home Library Definition', 'Circulation Active Month',\n",
       "       'Circulation Active Year', 'Notice Preference Code',\n",
       "       'Notice Preference Definition', 'Provided Email Address',\n",
       "       'Year Patron Registered', 'Outside of County', 'Supervisor District',\n",
       "       'is_adult'],\n",
       "      dtype='object')"
      ]
     },
     "execution_count": 15,
     "metadata": {},
     "output_type": "execute_result"
    }
   ],
   "source": [
    "#Berechnungen auf bestehende Variablen können direkt einer neuen Spalte zugeordnet werden. Erstes Bsp.:\n",
    "#Hier wird zuerst die Anweisung df['Patron Type Definition'] == 'ADULT' durchgeführt. \n",
    "#Das implizite Ergebnis dieser Anweisung ist eine Series mit bool'schen Werten True/False. \n",
    "#Diese neu erstellte Series wird dann in einer neuen Spalte \"is adult\" dem DataFrame angehängt.\n",
    "import numpy as np\n",
    "df['is_adult'] = df['Patron Type Definition'] == 'ADULT'\n",
    "df.columns"
   ]
  },
  {
   "cell_type": "code",
   "execution_count": 16,
   "metadata": {},
   "outputs": [
    {
     "data": {
      "text/plain": [
       "Index(['Patron Type Code', 'Patron Type Definition', 'Total Checkouts',\n",
       "       'Total Renewals', 'Age Range', 'Home Library Code',\n",
       "       'Home Library Definition', 'Circulation Active Month',\n",
       "       'Circulation Active Year', 'Notice Preference Code',\n",
       "       'Notice Preference Definition', 'Provided Email Address',\n",
       "       'Year Patron Registered', 'Outside of County', 'Supervisor District',\n",
       "       'is_adult', 'log_renewals'],\n",
       "      dtype='object')"
      ]
     },
     "execution_count": 16,
     "metadata": {},
     "output_type": "execute_result"
    }
   ],
   "source": [
    "#Zweites Bsp.:\n",
    "#Hier wird der Logarithmus auf den Werten der Spalte Total Renewals berechnet. \n",
    "#Dieser wird einer neu erstellte Spalte \"log_renewals\" zugewiesen.\n",
    "import numpy as np\n",
    "df['log_renewals'] = np.log(df['Total Renewals'] + 1)\n",
    "df.columns"
   ]
  },
  {
   "cell_type": "code",
   "execution_count": 18,
   "metadata": {},
   "outputs": [
    {
     "data": {
      "text/html": [
       "<div>\n",
       "<style scoped>\n",
       "    .dataframe tbody tr th:only-of-type {\n",
       "        vertical-align: middle;\n",
       "    }\n",
       "\n",
       "    .dataframe tbody tr th {\n",
       "        vertical-align: top;\n",
       "    }\n",
       "\n",
       "    .dataframe thead th {\n",
       "        text-align: right;\n",
       "    }\n",
       "</style>\n",
       "<table border=\"1\" class=\"dataframe\">\n",
       "  <thead>\n",
       "    <tr style=\"text-align: right;\">\n",
       "      <th></th>\n",
       "      <th>Patron Type Code</th>\n",
       "      <th>Patron Type Definition</th>\n",
       "      <th>Total Checkouts</th>\n",
       "      <th>Total Renewals</th>\n",
       "      <th>Age Range</th>\n",
       "      <th>Home Library Code</th>\n",
       "      <th>Home Library Definition</th>\n",
       "      <th>Circulation Active Month</th>\n",
       "      <th>Circulation Active Year</th>\n",
       "      <th>Notice Preference Code</th>\n",
       "      <th>Notice Preference Definition</th>\n",
       "      <th>Provided Email Address</th>\n",
       "      <th>Year Patron Registered</th>\n",
       "      <th>Outside of County</th>\n",
       "      <th>Supervisor District</th>\n",
       "      <th>is_adult</th>\n",
       "      <th>log_renewals</th>\n",
       "    </tr>\n",
       "  </thead>\n",
       "  <tbody>\n",
       "    <tr>\n",
       "      <th>0</th>\n",
       "      <td>0</td>\n",
       "      <td>ADULT</td>\n",
       "      <td>0</td>\n",
       "      <td>0</td>\n",
       "      <td>20 to 24 years</td>\n",
       "      <td>P1</td>\n",
       "      <td>Park</td>\n",
       "      <td>None</td>\n",
       "      <td>None</td>\n",
       "      <td>z</td>\n",
       "      <td>email</td>\n",
       "      <td>True</td>\n",
       "      <td>2014</td>\n",
       "      <td>False</td>\n",
       "      <td>5.0</td>\n",
       "      <td>True</td>\n",
       "      <td>0.000000</td>\n",
       "    </tr>\n",
       "    <tr>\n",
       "      <th>1</th>\n",
       "      <td>0</td>\n",
       "      <td>ADULT</td>\n",
       "      <td>31</td>\n",
       "      <td>22</td>\n",
       "      <td>25 to 34 years</td>\n",
       "      <td>S7</td>\n",
       "      <td>Sunset</td>\n",
       "      <td>April</td>\n",
       "      <td>2016</td>\n",
       "      <td>z</td>\n",
       "      <td>email</td>\n",
       "      <td>True</td>\n",
       "      <td>2010</td>\n",
       "      <td>False</td>\n",
       "      <td>4.0</td>\n",
       "      <td>True</td>\n",
       "      <td>3.135494</td>\n",
       "    </tr>\n",
       "    <tr>\n",
       "      <th>2</th>\n",
       "      <td>0</td>\n",
       "      <td>ADULT</td>\n",
       "      <td>0</td>\n",
       "      <td>0</td>\n",
       "      <td>45 to 54 years</td>\n",
       "      <td>P1</td>\n",
       "      <td>Park</td>\n",
       "      <td>None</td>\n",
       "      <td>None</td>\n",
       "      <td>a</td>\n",
       "      <td>print</td>\n",
       "      <td>False</td>\n",
       "      <td>2016</td>\n",
       "      <td>True</td>\n",
       "      <td>NaN</td>\n",
       "      <td>True</td>\n",
       "      <td>0.000000</td>\n",
       "    </tr>\n",
       "    <tr>\n",
       "      <th>3</th>\n",
       "      <td>0</td>\n",
       "      <td>ADULT</td>\n",
       "      <td>0</td>\n",
       "      <td>0</td>\n",
       "      <td>25 to 34 years</td>\n",
       "      <td>X</td>\n",
       "      <td>Main Library</td>\n",
       "      <td>None</td>\n",
       "      <td>None</td>\n",
       "      <td>z</td>\n",
       "      <td>email</td>\n",
       "      <td>True</td>\n",
       "      <td>2015</td>\n",
       "      <td>False</td>\n",
       "      <td>3.0</td>\n",
       "      <td>True</td>\n",
       "      <td>0.000000</td>\n",
       "    </tr>\n",
       "    <tr>\n",
       "      <th>4</th>\n",
       "      <td>0</td>\n",
       "      <td>ADULT</td>\n",
       "      <td>126</td>\n",
       "      <td>11</td>\n",
       "      <td>45 to 54 years</td>\n",
       "      <td>M2</td>\n",
       "      <td>Marina</td>\n",
       "      <td>January</td>\n",
       "      <td>2016</td>\n",
       "      <td>z</td>\n",
       "      <td>email</td>\n",
       "      <td>True</td>\n",
       "      <td>2003</td>\n",
       "      <td>False</td>\n",
       "      <td>2.0</td>\n",
       "      <td>True</td>\n",
       "      <td>2.484907</td>\n",
       "    </tr>\n",
       "  </tbody>\n",
       "</table>\n",
       "</div>"
      ],
      "text/plain": [
       "   Patron Type Code Patron Type Definition  Total Checkouts  Total Renewals  \\\n",
       "0                 0                  ADULT                0               0   \n",
       "1                 0                  ADULT               31              22   \n",
       "2                 0                  ADULT                0               0   \n",
       "3                 0                  ADULT                0               0   \n",
       "4                 0                  ADULT              126              11   \n",
       "\n",
       "        Age Range Home Library Code Home Library Definition  \\\n",
       "0  20 to 24 years                P1                    Park   \n",
       "1  25 to 34 years                S7                  Sunset   \n",
       "2  45 to 54 years                P1                    Park   \n",
       "3  25 to 34 years                 X            Main Library   \n",
       "4  45 to 54 years                M2                  Marina   \n",
       "\n",
       "  Circulation Active Month Circulation Active Year Notice Preference Code  \\\n",
       "0                     None                    None                      z   \n",
       "1                    April                    2016                      z   \n",
       "2                     None                    None                      a   \n",
       "3                     None                    None                      z   \n",
       "4                  January                    2016                      z   \n",
       "\n",
       "  Notice Preference Definition  Provided Email Address  \\\n",
       "0                        email                    True   \n",
       "1                        email                    True   \n",
       "2                        print                   False   \n",
       "3                        email                    True   \n",
       "4                        email                    True   \n",
       "\n",
       "   Year Patron Registered  Outside of County  Supervisor District  is_adult  \\\n",
       "0                    2014              False                  5.0      True   \n",
       "1                    2010              False                  4.0      True   \n",
       "2                    2016               True                  NaN      True   \n",
       "3                    2015              False                  3.0      True   \n",
       "4                    2003              False                  2.0      True   \n",
       "\n",
       "   log_renewals  \n",
       "0      0.000000  \n",
       "1      3.135494  \n",
       "2      0.000000  \n",
       "3      0.000000  \n",
       "4      2.484907  "
      ]
     },
     "execution_count": 18,
     "metadata": {},
     "output_type": "execute_result"
    }
   ],
   "source": [
    "df.head()"
   ]
  },
  {
   "cell_type": "code",
   "execution_count": null,
   "metadata": {},
   "outputs": [],
   "source": []
  }
 ],
 "metadata": {
  "kernelspec": {
   "display_name": "Python 3",
   "language": "python",
   "name": "python3"
  },
  "language_info": {
   "codemirror_mode": {
    "name": "ipython",
    "version": 3
   },
   "file_extension": ".py",
   "mimetype": "text/x-python",
   "name": "python",
   "nbconvert_exporter": "python",
   "pygments_lexer": "ipython3",
   "version": "3.8.5"
  }
 },
 "nbformat": 4,
 "nbformat_minor": 4
}
