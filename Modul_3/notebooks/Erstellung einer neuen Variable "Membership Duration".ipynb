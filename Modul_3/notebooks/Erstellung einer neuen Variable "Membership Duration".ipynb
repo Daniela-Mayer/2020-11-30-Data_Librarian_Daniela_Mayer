{
 "cells": [
  {
   "cell_type": "code",
   "execution_count": 1,
   "metadata": {},
   "outputs": [],
   "source": [
    "import pandas as pd"
   ]
  },
  {
   "cell_type": "code",
   "execution_count": 3,
   "metadata": {},
   "outputs": [],
   "source": [
    "df = pd.read_csv(\"../data/Library_Usage.csv\")"
   ]
  },
  {
   "cell_type": "code",
   "execution_count": 4,
   "metadata": {},
   "outputs": [
    {
     "data": {
      "text/plain": [
       "0            NaN\n",
       "1         2016.0\n",
       "2            NaN\n",
       "3            NaN\n",
       "4         2016.0\n",
       "           ...  \n",
       "423443    2015.0\n",
       "423444    2016.0\n",
       "423445    2016.0\n",
       "423446    2015.0\n",
       "423447       NaN\n",
       "Name: Circulation Active Year, Length: 423448, dtype: float64"
      ]
     },
     "execution_count": 4,
     "metadata": {},
     "output_type": "execute_result"
    }
   ],
   "source": [
    "#Die Spalte \"Circulation Active Year\" ist Text. Sie soll in ein\n",
    "#numerisches Format konvertiert werden mit der Methode pd.to_numeric()\n",
    "#\n",
    "pd.to_numeric(df['Circulation Active Year'], errors='coerce')"
   ]
  },
  {
   "cell_type": "code",
   "execution_count": null,
   "metadata": {},
   "outputs": [],
   "source": []
  }
 ],
 "metadata": {
  "kernelspec": {
   "display_name": "Python 3",
   "language": "python",
   "name": "python3"
  },
  "language_info": {
   "codemirror_mode": {
    "name": "ipython",
    "version": 3
   },
   "file_extension": ".py",
   "mimetype": "text/x-python",
   "name": "python",
   "nbconvert_exporter": "python",
   "pygments_lexer": "ipython3",
   "version": "3.8.5"
  }
 },
 "nbformat": 4,
 "nbformat_minor": 4
}
