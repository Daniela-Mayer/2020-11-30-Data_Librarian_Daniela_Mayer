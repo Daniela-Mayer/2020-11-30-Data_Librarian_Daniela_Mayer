{
 "cells": [
  {
   "cell_type": "markdown",
   "metadata": {},
   "source": [
    "Beispiele ML im beruflichen oder privaten Alltag und mögliche zugehörige maschinelle Verfahren:\n",
    "- Automatische Sacherschließung (Klassifikatorisch und verbal)\n",
    "- Lese- / Ausleihempfehlungen anhand der letzten Suchen oder Entleihungen (evtl. beim Browsing)\n",
    "- Erwerbungsvorschläge bei z.B. Vielausleihen\n",
    "- Autocomplete-Funktion beim Suchen\n",
    "- Website-Optimierung\n",
    "- Evtl. automatische Ergänzung von nicht vollständigen Metadaten?\n",
    "- Wettervorhersagen\n",
    "- Verkehr (Vorhersagen, autonomes Fahren...)\n",
    "- Online-Werbung\n",
    "- Digitale Assistenten\n",
    "- Krankheitsdiagnostik\n",
    "- Manipulation von Bildern (z.B. Gesichtern) und Stimmen\n",
    "- politische Propaganda \n",
    "- Zensur \n",
    "- Überwachung"
   ]
  }
 ],
 "metadata": {
  "kernelspec": {
   "display_name": "Python 3",
   "language": "python",
   "name": "python3"
  },
  "language_info": {
   "codemirror_mode": {
    "name": "ipython",
    "version": 3
   },
   "file_extension": ".py",
   "mimetype": "text/x-python",
   "name": "python",
   "nbconvert_exporter": "python",
   "pygments_lexer": "ipython3",
   "version": "3.8.5"
  }
 },
 "nbformat": 4,
 "nbformat_minor": 4
}
